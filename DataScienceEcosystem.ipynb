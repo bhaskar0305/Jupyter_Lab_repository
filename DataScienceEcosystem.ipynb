{
 "cells": [
  {
   "cell_type": "markdown",
   "id": "9234ba58-8597-470b-a457-2af193b489e4",
   "metadata": {},
   "source": [
    "# Data Science Tools and Ecosystem"
   ]
  },
  {
   "cell_type": "markdown",
   "id": "83211a9d-a386-4b5b-b322-7278a5e851e7",
   "metadata": {},
   "source": [
    "In this notebook, Data Science Tools and Ecosystem are summarized."
   ]
  },
  {
   "cell_type": "markdown",
   "id": "2de0e924-ea3b-426c-8fb0-93f57a83b64d",
   "metadata": {},
   "source": [
    "**Objectives:**"
   ]
  },
  {
   "cell_type": "markdown",
   "id": "bbd1a0f6-0861-47b5-83af-c7c85664bce3",
   "metadata": {},
   "source": [
    "* studied about Python Language and it's usage\n",
    "* studied about different programming languages used in data science\n",
    "* different libraries used in data science\n",
    "* studied about R and R Studio\n",
    "* studied about Git and GitHub"
   ]
  },
  {
   "cell_type": "markdown",
   "id": "1bb050d8-2490-4820-a14b-6a523e896854",
   "metadata": {},
   "source": [
    "Some of the popular languages that Data Scientists use are:"
   ]
  },
  {
   "cell_type": "markdown",
   "id": "1e76d065-927a-4fb6-9872-31441f519b71",
   "metadata": {},
   "source": [
    "1. Python\n",
    "2. R\n",
    "3. Julia"
   ]
  },
  {
   "cell_type": "markdown",
   "id": "686141ad-c66d-4ed7-9e21-1bf6c62fa33b",
   "metadata": {},
   "source": [
    "Some of the commonly used libraries used by Data Scientists include:"
   ]
  },
  {
   "cell_type": "markdown",
   "id": "8d7c6152-0b82-4947-952a-6a62b89a2e29",
   "metadata": {},
   "source": [
    "1. TensorFlow\n",
    "2. SciKit-Learn\n",
    "3. Panda"
   ]
  },
  {
   "cell_type": "markdown",
   "id": "4c9f0d07-5948-4958-ba4d-aa8eeaa6ff03",
   "metadata": {},
   "source": [
    "| Data Science Tools|\n",
    "|-------------------|\n",
    "| RStudio |\n",
    "| Apache Spark |\n",
    "| Apache Hadoop |"
   ]
  },
  {
   "cell_type": "markdown",
   "id": "b11f9115-49ec-420f-b35d-0112f1dd9301",
   "metadata": {
    "tags": []
   },
   "source": [
    "### Below are a few examples of evaluating arithmetic expressions in Python"
   ]
  },
  {
   "cell_type": "code",
   "execution_count": null,
   "id": "6baa7ffb-1a26-4dae-81d5-5eac7d201d93",
   "metadata": {
    "tags": []
   },
   "outputs": [],
   "source": [
    "#This a simple arithmetic expression to mutiply then add integers\n",
    "(3*4)+5"
   ]
  },
  {
   "cell_type": "code",
   "execution_count": 3,
   "id": "e6d3054a-ddfb-4699-a545-99c054b4749c",
   "metadata": {
    "tags": []
   },
   "outputs": [
    {
     "name": "stdout",
     "output_type": "stream",
     "text": [
      "3.3333333333333335\n"
     ]
    }
   ],
   "source": [
    "#This will convert 200 minutes to hours by diving by 60\n",
    "minutes = 200\n",
    "hours = 200/60\n",
    "print(hours)"
   ]
  },
  {
   "cell_type": "markdown",
   "id": "b1fd2cdd-628e-42e1-9ae3-d73a607669b1",
   "metadata": {},
   "source": [
    "## Author"
   ]
  },
  {
   "cell_type": "markdown",
   "id": "39fdb876-2b38-4229-9e5b-25364bea67fe",
   "metadata": {},
   "source": [
    "Bhaskar Mishra"
   ]
  },
  {
   "cell_type": "code",
   "execution_count": null,
   "id": "01a6e753-702f-4165-a48d-6a11aa1a7f6a",
   "metadata": {},
   "outputs": [],
   "source": []
  }
 ],
 "metadata": {
  "kernelspec": {
   "display_name": "Python",
   "language": "python",
   "name": "conda-env-python-py"
  },
  "language_info": {
   "codemirror_mode": {
    "name": "ipython",
    "version": 3
   },
   "file_extension": ".py",
   "mimetype": "text/x-python",
   "name": "python",
   "nbconvert_exporter": "python",
   "pygments_lexer": "ipython3",
   "version": "3.7.12"
  }
 },
 "nbformat": 4,
 "nbformat_minor": 5
}
